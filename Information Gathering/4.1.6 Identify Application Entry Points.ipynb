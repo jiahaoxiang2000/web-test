{
 "cells": [
  {
   "cell_type": "markdown",
   "metadata": {},
   "source": [
    "# Summary\n",
    "\n",
    "Enumerating the application and its attack surface is a key precursor before any thorough testing can be undertaken,\n",
    "as it allows the tester to identify likely areas of weakness. This section aims to help identify and map out areas within\n",
    "the application that should be investigated once enumeration and mapping have been completed."
   ]
  },
  {
   "cell_type": "markdown",
   "metadata": {},
   "source": [
    "### Black-Box Testing\n",
    "Testing for Application Entry Points\n",
    "The following are two examples on how to check for application entry points.\n",
    "\n",
    "Example 1\n",
    "This example shows a GET request that would purchase an item from an online shopping application.\n",
    "```\n",
    "GET /shoppingApp/buyme.asp?CUSTOMERID=100&ITEM=z101a&PRICE=62.50&IP=x.x.x.x HTTP/1.1\n",
    "Host: x.x.x.x\n",
    "Cookie: SESSIONID=Z29vZCBqb2IgcGFkYXdhIG15IHVzZXJuYW1lIGlzIGZvbyBhbmQgcGFzc3dvcmQgaXMgYmFy\n",
    "```\n",
    "\n",
    "> Here the tester would note all the parameters of the request such as CUSTOMERID, ITEM, PRICE, IP, and the Cookie (which could just be encoded parameters or used for session state)."
   ]
  }
 ],
 "metadata": {
  "kernelspec": {
   "display_name": "test",
   "language": "python",
   "name": "python3"
  },
  "language_info": {
   "name": "python",
   "version": "3.11.9"
  }
 },
 "nbformat": 4,
 "nbformat_minor": 2
}
