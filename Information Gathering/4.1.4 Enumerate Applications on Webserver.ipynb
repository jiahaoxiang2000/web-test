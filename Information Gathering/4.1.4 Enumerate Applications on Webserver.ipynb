{
 "cells": [
  {
   "cell_type": "markdown",
   "metadata": {},
   "source": [
    "## Approaches to Address Issue 1 - Non-standard URLs\n",
    "\n",
    "First, if the web server is mis-configured and allows directory browsing, it may be possible to spot these applications.\n",
    "Vulnerability scanners may help in this respect.\n",
    "\n",
    "Second, these applications may be referenced by other web pages and there is a chance that they have been spidered\n",
    "and indexed by web search engines. If testers suspect the existence of such hidden applications on www.example.com\n",
    "they could search using the site operator and examining the result of a query for `site: www.example.com` . Among the\n",
    "returned URLs there could be one pointing to such a non-obvious application.\n",
    "\n",
    "Another option is to probe for URLs which might be likely candidates for non-published applications. For example, a\n",
    "web mail front end might be accessible from URLs such as https://www.example.com/webmail ,\n",
    "https://webmail.example.com/ , or https://mail.example.com/ . The same holds for administrative interfaces, which\n",
    "may be published at hidden URLs (for example, a Tomcat administrative interface), and yet not referenced anywhere.\n",
    "So doing a bit of dictionary-style searching (or “intelligent guessing”) could yield some results. Vulnerability scanners\n",
    "may help in this respect."
   ]
  },
  {
   "cell_type": "markdown",
   "metadata": {},
   "source": [
    "## Approaches to Address Issue 2 - Non-standard Ports\n",
    "\n",
    "It is easy to check for the existence of web applications on non-standard ports. A port scanner such as `nmap` is capable\n",
    "of performing service recognition by means of the `-sV` option, and will identify http[s] services on arbitrary ports. What\n",
    "is required is a full scan of the whole 64k TCP port address space.\n",
    "\n",
    "For example, the following command will look up, with a TCP connect scan, all open ports on IP `161.117.236.154` and\n",
    "will try to determine what services are bound to them (only essential switches are shown – nmap features a broad set of\n",
    "options, whose discussion is out of scope):\n",
    "```shell\n",
    "nmap -Pn -sT -sV -p0-65535 161.117.236.154\n",
    "```\n",
    "\n",
    "```plaintext\n",
    "Starting Nmap 7.94SVN ( https://nmap.org ) at 2024-05-27 17:18 CST\n",
    "Nmap scan report for 161.117.236.154\n",
    "Host is up (0.062s latency).\n",
    "Not shown: 65533 filtered tcp ports (no-response)\n",
    "PORT    STATE SERVICE\n",
    "22/tcp  open  ssh\n",
    "80/tcp  open  http\n",
    "443/tcp open  https\n",
    "\n",
    "Nmap done: 1 IP address (1 host up) scanned in 163.56 seconds\n",
    "```"
   ]
  }
 ],
 "metadata": {
  "language_info": {
   "name": "python"
  }
 },
 "nbformat": 4,
 "nbformat_minor": 2
}
