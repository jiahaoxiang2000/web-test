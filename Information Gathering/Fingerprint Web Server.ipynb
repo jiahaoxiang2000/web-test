{
 "cells": [
  {
   "cell_type": "markdown",
   "metadata": {},
   "source": [
    "target web site : `https://web.antgst.com` \n",
    "\n",
    "```shell\n",
    "nmap -p 443 --script http-server-header web.antgst.com\n",
    "```\n",
    "\n",
    "```text\n",
    "Starting Nmap 7.94SVN ( https://nmap.org ) at 2024-05-25 17:00 CST\n",
    "Nmap scan report for web.antgst.com (161.117.236.154)\n",
    "Host is up (0.057s latency).\n",
    "\n",
    "PORT    STATE SERVICE\n",
    "443/tcp open  https\n",
    "|_http-server-header: nginx/1.20.2\n",
    "\n",
    "Nmap done: 1 IP address (1 host up) scanned in 0.70 seconds\n",
    "\n",
    "```\n"
   ]
  }
 ],
 "metadata": {
  "kernelspec": {
   "display_name": "test",
   "language": "python",
   "name": "python3"
  },
  "language_info": {
   "codemirror_mode": {
    "name": "ipython",
    "version": 3
   },
   "file_extension": ".py",
   "mimetype": "text/x-python",
   "name": "python",
   "nbconvert_exporter": "python",
   "pygments_lexer": "ipython3",
   "version": "3.1.undefined"
  }
 },
 "nbformat": 4,
 "nbformat_minor": 2
}
