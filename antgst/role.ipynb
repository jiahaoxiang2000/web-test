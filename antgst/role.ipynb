{
 "cells": [
  {
   "cell_type": "markdown",
   "metadata": {},
   "source": [
    "we want to change the owen more ability role. first way we try to modify the user's role. "
   ]
  },
  {
   "cell_type": "markdown",
   "metadata": {},
   "source": [
    "##   modify normal user's role\n",
    "\n",
    "first to get username by the `/sys/user/getUserListByName`\n",
    "\n",
    "eg:\n",
    "- ANT_JYB:869cb203724655601f86c46b0ec3a303\n",
    "- ANT_LLT:ff51a47e726eb625de158ad65f6080fb\n",
    "- Yunban_Direct:d6b6cf5f49b049c09ac682f0f065f55f\n",
    "- admin:e9ca23d68d884d4ebb19d07889727dae\n",
    "- SY3:d0d99b21e4907c6d9d3b8a88ef8e8bc3\n",
    "\n",
    "get the userRole ID by userid `/sys/user/queryUserRole`\n",
    "\n",
    "eg: \n",
    "  \n",
    "- e9ca23d68d884d4ebb19d07889727dae:f6817f48af4fb3af11b9e8bf182f618b\n",
    "- ff51a47e726eb625de158ad65f6080fb:97bce13017bbd7aaed2d10bea251d079\n",
    "- d6b6cf5f49b049c09ac682f0f065f55f:082678e5d9270824353a223a6727e009,2974a99cf0431ce82c77b603e05ad91d,618906200161e2b8858b1dcc027187c0\n",
    "- d0d99b21e4907c6d9d3b8a88ef8e8bc3:082678e5d9270824353a223a6727e009,2974a99cf0431ce82c77b603e05ad91d\n",
    "\n",
    "so we modify the Yunban_Direct to the ANT_LLT role by the `/sys/user/addSysUserRole` & `/sys/user/deleteUserRole`."
   ]
  }
 ],
 "metadata": {
  "language_info": {
   "name": "python"
  }
 },
 "nbformat": 4,
 "nbformat_minor": 2
}
